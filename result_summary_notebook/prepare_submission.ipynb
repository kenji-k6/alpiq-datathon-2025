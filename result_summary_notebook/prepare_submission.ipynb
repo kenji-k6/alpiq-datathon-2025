{
 "cells": [
  {
   "cell_type": "markdown",
   "metadata": {},
   "source": [
    "Upload Data to Check Right Index & Cols"
   ]
  },
  {
   "cell_type": "code",
   "execution_count": 20,
   "metadata": {},
   "outputs": [],
   "source": [
    "import os\n",
    "import pandas as pd\n",
    "\n",
    "os.chdir(r'C:\\Users\\Lorenzo\\OneDrive - Universitaet St.Gallen\\Desktop\\ACE Datathon')\n",
    "test_sample_IT = pd.read_csv('students_results_OurCoolTeamName_IT.csv', index_col=0, parse_dates=True)\n",
    "os.chdir(r'C:\\Users\\Lorenzo\\OneDrive - Universitaet St.Gallen\\Desktop\\ACE Datathon\\alpiq-datathon-2025-main\\datasets2025')\n",
    "test_sample_ES = pd.read_csv('training_set_ES.csv')\n",
    "\n",
    "test_index = test_sample_IT.index\n",
    "test_cols_IT = test_sample_IT.columns\n",
    "test_cols_ES = test_sample_ES.loc[:,[col[:20] == 'VALUEMWHMETERINGDATA' for col in test_sample_ES.columns]].columns"
   ]
  },
  {
   "cell_type": "markdown",
   "metadata": {},
   "source": [
    "Take Average of Predictions for IT and Create File"
   ]
  },
  {
   "cell_type": "code",
   "execution_count": 21,
   "metadata": {},
   "outputs": [],
   "source": [
    "os.chdir(r'C:\\Users\\Lorenzo\\OneDrive - Universitaet St.Gallen\\Desktop\\ACE Datathon\\alpiq-datathon-2025-main\\datasets2025\\final_results')\n",
    "\n",
    "### xLSTM\n",
    "\n",
    "test_IT_xLSTM = pd.read_csv('predictions_IT_xLSTM.csv', index_col=0, parse_dates=True)\n",
    "\n",
    "test_IT_xLSTM = test_IT_xLSTM.loc[:,test_cols_IT]\n",
    "\n",
    "test_IT_xLSTM = test_IT_xLSTM.clip(lower=0)\n",
    "\n",
    "assert all(test_IT_xLSTM.index == test_index)\n",
    "assert all(test_IT_xLSTM.columns == test_cols_IT)\n",
    "\n",
    "### XGBOOST Univar\n",
    "\n",
    "test_IT_uni_XGBOOST = pd.read_csv('predictions_IT_univar_XGBOOST.csv', index_col=0, parse_dates=True)\n",
    "\n",
    "test_IT_uni_XGBOOST = test_IT_uni_XGBOOST.loc[:,test_cols_IT]\n",
    "\n",
    "test_IT_uni_XGBOOST = test_IT_uni_XGBOOST.clip(lower=0)\n",
    "\n",
    "assert all(test_IT_uni_XGBOOST.index == test_index)\n",
    "assert all(test_IT_uni_XGBOOST.columns == test_cols_IT)\n",
    "\n",
    "###\n",
    "\n",
    "test_final_IT = (test_IT_xLSTM + test_IT_uni_XGBOOST) / 2\n",
    "\n",
    "test_final_IT.to_csv('students_results_segfault_IT.csv', index=True)"
   ]
  },
  {
   "cell_type": "markdown",
   "metadata": {},
   "source": [
    "Take Average of Predictions for ES and Create Fine"
   ]
  },
  {
   "cell_type": "code",
   "execution_count": 22,
   "metadata": {},
   "outputs": [],
   "source": [
    "os.chdir(r'C:\\Users\\Lorenzo\\OneDrive - Universitaet St.Gallen\\Desktop\\ACE Datathon\\alpiq-datathon-2025-main\\datasets2025\\final_results')\n",
    "\n",
    "### xLSTM\n",
    "\n",
    "test_ES_xLSTM = pd.read_csv('predictions_ES_xLSTM.csv', index_col=0, parse_dates=True)\n",
    "\n",
    "test_ES_xLSTM = test_ES_xLSTM.loc[:,test_cols_ES]\n",
    "\n",
    "test_ES_xLSTM = test_ES_xLSTM.clip(lower=0)\n",
    "\n",
    "assert all(test_ES_xLSTM.index == test_index)\n",
    "assert all(test_ES_xLSTM.columns == test_cols_ES)\n",
    "\n",
    "### XGBOOST Univar\n",
    "\n",
    "test_ES_uni_XGBOOST = pd.read_csv('predictions_ES_univar_XGBOOST.csv', index_col=0, parse_dates=True)\n",
    "\n",
    "test_ES_uni_XGBOOST = test_ES_uni_XGBOOST.loc[:,test_cols_ES]\n",
    "\n",
    "test_ES_uni_XGBOOST = test_ES_uni_XGBOOST.clip(lower=0)\n",
    "\n",
    "assert all(test_ES_uni_XGBOOST.index == test_index)\n",
    "assert all(test_ES_uni_XGBOOST.columns == test_cols_ES)\n",
    "\n",
    "###\n",
    "\n",
    "test_final_ES = (test_ES_xLSTM + test_ES_uni_XGBOOST) / 2\n",
    "\n",
    "test_final_ES.to_csv('students_results_segfault_ES.csv', index=True)"
   ]
  }
 ],
 "metadata": {
  "kernelspec": {
   "display_name": "tf",
   "language": "python",
   "name": "python3"
  },
  "language_info": {
   "codemirror_mode": {
    "name": "ipython",
    "version": 3
   },
   "file_extension": ".py",
   "mimetype": "text/x-python",
   "name": "python",
   "nbconvert_exporter": "python",
   "pygments_lexer": "ipython3",
   "version": "3.10.13"
  }
 },
 "nbformat": 4,
 "nbformat_minor": 2
}
